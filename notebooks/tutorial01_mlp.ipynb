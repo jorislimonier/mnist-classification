{
 "cells": [
  {
   "cell_type": "code",
   "execution_count": 23,
   "metadata": {},
   "outputs": [],
   "source": [
    "import os\n",
    "os.chdir(\"/media/joris/projects/mnist-classification\")\n",
    "\n",
    "import torchvision\n",
    "from torchvision.datasets.mnist import MNIST\n",
    "from src.tutorial01_mlp import *\n",
    "\n",
    "%reload_ext autoreload\n",
    "%autoreload 2"
   ]
  },
  {
   "cell_type": "code",
   "execution_count": 24,
   "metadata": {},
   "outputs": [
    {
     "data": {
      "text/plain": [
       "tensor([[-0.2325,  0.2715,  0.4092,  0.0920, -0.3902, -0.4268],\n",
       "        [-0.1324, -0.0423, -0.4016,  0.3668,  0.2194, -0.1954],\n",
       "        [ 0.2786,  0.1908, -0.2755, -0.2350, -0.2788, -0.3566],\n",
       "        [-0.0561, -0.1959, -0.3237,  0.2814, -0.1138, -0.0841]])"
      ]
     },
     "execution_count": 24,
     "metadata": {},
     "output_type": "execute_result"
    }
   ],
   "source": [
    "do = DataOperations()\n",
    "pred = Predict()\n",
    "layer = FCLayer(in_features=4, out_features=6)\n",
    "layer.weights"
   ]
  },
  {
   "cell_type": "code",
   "execution_count": 26,
   "metadata": {},
   "outputs": [
    {
     "data": {
      "text/plain": [
       "tensor(1.)"
      ]
     },
     "execution_count": 26,
     "metadata": {},
     "output_type": "execute_result"
    }
   ],
   "source": [
    "pred.do.X_test.max()"
   ]
  }
 ],
 "metadata": {
  "kernelspec": {
   "display_name": "Python 3",
   "language": "python",
   "name": "python3"
  },
  "language_info": {
   "codemirror_mode": {
    "name": "ipython",
    "version": 3
   },
   "file_extension": ".py",
   "mimetype": "text/x-python",
   "name": "python",
   "nbconvert_exporter": "python",
   "pygments_lexer": "ipython3",
   "version": "3.10.6"
  },
  "orig_nbformat": 4,
  "vscode": {
   "interpreter": {
    "hash": "8a94588eda9d64d9e9a351ab8144e55b1fabf5113b54e67dd26a8c27df0381b3"
   }
  }
 },
 "nbformat": 4,
 "nbformat_minor": 2
}
